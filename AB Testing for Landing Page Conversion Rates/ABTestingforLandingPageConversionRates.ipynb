{
 "cells": [
  {
   "cell_type": "code",
   "execution_count": 1,
   "id": "00c1893b",
   "metadata": {},
   "outputs": [],
   "source": [
    "import numpy as np"
   ]
  },
  {
   "cell_type": "code",
   "execution_count": 2,
   "id": "d02e6ef7",
   "metadata": {},
   "outputs": [],
   "source": [
    "np.random.seed(42)"
   ]
  },
  {
   "cell_type": "code",
   "execution_count": 3,
   "id": "f2afa841",
   "metadata": {},
   "outputs": [],
   "source": [
    "# Simulated conversion rates for page A and page B\n",
    "conversion_rate_A = 0.15\n",
    "conversion_rate_B = 0.17"
   ]
  },
  {
   "cell_type": "code",
   "execution_count": 4,
   "id": "3b8fd4cf",
   "metadata": {},
   "outputs": [],
   "source": [
    "# Number of visitors for each page\n",
    "n_visitors_A = 1000\n",
    "n_visitors_B = 1000\n"
   ]
  },
  {
   "cell_type": "code",
   "execution_count": 5,
   "id": "28cff5fb",
   "metadata": {},
   "outputs": [],
   "source": [
    "# Simulate conversions for each page\n",
    "conversions_A = np.random.binomial(n=1, p=conversion_rate_A, size=n_visitors_A)\n",
    "conversions_B = np.random.binomial(n=1, p=conversion_rate_B, size=n_visitors_B)"
   ]
  },
  {
   "cell_type": "code",
   "execution_count": 6,
   "id": "449f179c",
   "metadata": {},
   "outputs": [],
   "source": [
    "# Calculate observed conversion rates\n",
    "observed_conversion_rate_A = np.mean(conversions_A)\n",
    "observed_conversion_rate_B = np.mean(conversions_B)"
   ]
  },
  {
   "cell_type": "code",
   "execution_count": 7,
   "id": "4d2ff28d",
   "metadata": {},
   "outputs": [],
   "source": [
    "# Calculate the difference in observed conversion rates\n",
    "observed_difference = observed_conversion_rate_B - observed_conversion_rate_A"
   ]
  },
  {
   "cell_type": "code",
   "execution_count": 8,
   "id": "6ce0f9f1",
   "metadata": {},
   "outputs": [],
   "source": [
    "# Conduct a two-proportion z-test\n",
    "from statsmodels.stats.proportion import proportions_ztest\n",
    "\n",
    "z_stat, p_value = proportions_ztest(\n",
    "    [np.sum(conversions_A), np.sum(conversions_B)],\n",
    "    [n_visitors_A, n_visitors_B],\n",
    "    alternative='smaller'\n",
    ")"
   ]
  },
  {
   "cell_type": "code",
   "execution_count": 9,
   "id": "a3d1f532",
   "metadata": {},
   "outputs": [
    {
     "name": "stdout",
     "output_type": "stream",
     "text": [
      "Observed Conversion Rate A: 0.1530\n",
      "Observed Conversion Rate B: 0.1690\n",
      "Observed Difference: 0.0160\n",
      "Z-stat: -0.9734\n",
      "P-value: 0.1652\n",
      "The difference is not statistically significant. No clear winner.\n"
     ]
    }
   ],
   "source": [
    "print(f\"Observed Conversion Rate A: {observed_conversion_rate_A:.4f}\")\n",
    "print(f\"Observed Conversion Rate B: {observed_conversion_rate_B:.4f}\")\n",
    "print(f\"Observed Difference: {observed_difference:.4f}\")\n",
    "print(f\"Z-stat: {z_stat:.4f}\")\n",
    "print(f\"P-value: {p_value:.4f}\")\n",
    "\n",
    "if p_value < 0.05:\n",
    "    print(\"The difference is statistically significant. Choose page B.\")\n",
    "else:\n",
    "    print(\"The difference is not statistically significant. No clear winner.\")"
   ]
  },
  {
   "cell_type": "code",
   "execution_count": null,
   "id": "8d0ba6c2",
   "metadata": {},
   "outputs": [],
   "source": []
  }
 ],
 "metadata": {
  "kernelspec": {
   "display_name": "Python 3 (ipykernel)",
   "language": "python",
   "name": "python3"
  },
  "language_info": {
   "codemirror_mode": {
    "name": "ipython",
    "version": 3
   },
   "file_extension": ".py",
   "mimetype": "text/x-python",
   "name": "python",
   "nbconvert_exporter": "python",
   "pygments_lexer": "ipython3",
   "version": "3.9.12"
  }
 },
 "nbformat": 4,
 "nbformat_minor": 5
}
